{
 "cells": [
  {
   "cell_type": "markdown",
   "id": "aed354b8",
   "metadata": {},
   "source": [
    "# User-based Collaborative Filtering Recommender System\n",
    "A common and popoular approach used in recommender system where it is using 2 datasets to generate personlaized (user) recommendations according to the similarity of the users preferences and similar users have rating on the anime movies.    \n",
    "\n",
    "Steps: \n",
    "1. Read through the dataset on user interactions with anime movie. \n",
    "2. Calculate the similarity between each pair of user based on their past intercations with anime movies via Cosine Similarity and Pearson Correlation Coeeficient. \n",
    "3. KNN? \n",
    "4. Generate recommendations.  "
   ]
  },
  {
   "cell_type": "markdown",
   "id": "cfd3bd9d",
   "metadata": {},
   "source": [
    "# Step 1: Read the dataset "
   ]
  },
  {
   "cell_type": "code",
   "execution_count": null,
   "id": "9f2d3121",
   "metadata": {},
   "outputs": [],
   "source": [
    "#Pandas tries to determine what dtype to set by analyzing the data in each column.\n",
    "import pandas as pd"
   ]
  },
  {
   "cell_type": "code",
   "execution_count": null,
   "id": "d8096b39",
   "metadata": {},
   "outputs": [],
   "source": [
    "#to set the low memory to be false because guessing dtypes for each column is very memory demanding. \n",
    "anime_movie_data = pd.read_csv('anime.csv', low_memory = False)\n",
    "\n",
    "#Print the data set (label, total numbers of data)\n",
    "anime_movie_data.shape"
   ]
  },
  {
   "cell_type": "code",
   "execution_count": null,
   "id": "e47bb243",
   "metadata": {},
   "outputs": [],
   "source": []
  },
  {
   "cell_type": "code",
   "execution_count": null,
   "id": "8fb99f82",
   "metadata": {},
   "outputs": [],
   "source": []
  },
  {
   "cell_type": "code",
   "execution_count": null,
   "id": "832018b2",
   "metadata": {},
   "outputs": [],
   "source": []
  }
 ],
 "metadata": {
  "kernelspec": {
   "display_name": "Python 3 (ipykernel)",
   "language": "python",
   "name": "python3"
  },
  "language_info": {
   "codemirror_mode": {
    "name": "ipython",
    "version": 3
   },
   "file_extension": ".py",
   "mimetype": "text/x-python",
   "name": "python",
   "nbconvert_exporter": "python",
   "pygments_lexer": "ipython3",
   "version": "3.10.9"
  }
 },
 "nbformat": 4,
 "nbformat_minor": 5
}
